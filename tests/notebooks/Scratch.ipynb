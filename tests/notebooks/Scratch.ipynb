{
 "cells": [
  {
   "cell_type": "code",
   "execution_count": 11,
   "metadata": {
    "collapsed": true
   },
   "outputs": [
    {
     "name": "stdout",
     "output_type": "stream",
     "text": [
      "<!DOCTYPE html>\n",
      "<html lang=\"en\">\n",
      "    <head>\n",
      "        <meta http-equiv=\"Content-Type\" content=\"text/html; charset=UTF-8\">\n",
      "        <title>Scraping Sandbox</title>\n",
      "        <link href=\"./css/bootstrap.min.css\" rel=\"stylesheet\">\n",
      "        <link href=\"./css/main.css\" rel=\"stylesheet\">\n",
      "    </head>\n",
      "    <body>\n",
      "        <div class=\"container\">\n",
      "            <div class=\"row\">\n",
      "                <div class=\"col-md-1\"></div>\n",
      "                <div class=\"col-md-10 well\">\n",
      "                    <img class=\"logo\" src=\"img/zyte.png\" width=\"200px\">\n",
      "                    <h1 class=\"text-right\">Web Scraping Sandbox</h1>\n",
      "                </div>\n",
      "            </div>\n",
      "\n",
      "            <div class=\"row\">\n",
      "                <div class=\"col-md-1\"></div>\n",
      "                <div class=\"col-md-10\">\n",
      "                    <h2>Books</h2>\n",
      "                    <p>A <a href=\"http://books.toscrape.com\">fictional bookstore</a> that desperately wants to be scraped. It's a safe place for beginners learning web scraping and for developers validating their scraping technologies as well. Available at: <a href=\"http://books.toscrape.com\">books.toscrape.com</a></p>\n",
      "                    <div class=\"col-md-6\">\n",
      "                        <a href=\"http://books.toscrape.com\"><img src=\"./img/books.png\" class=\"img-thumbnail\"></a>\n",
      "                    </div>\n",
      "                    <div class=\"col-md-6\">\n",
      "                        <table class=\"table table-hover\">\n",
      "                            <tr><th colspan=\"2\">Details</th></tr>\n",
      "                            <tr><td>Amount of items </td><td>1000</td></tr>\n",
      "                            <tr><td>Pagination </td><td>&#10004;</td></tr>\n",
      "                            <tr><td>Items per page </td><td>max 20</td></tr>\n",
      "                            <tr><td>Requires JavaScript </td><td>&#10008;</td></tr>\n",
      "                        </table>\n",
      "                    </div>\n",
      "                </div>\n",
      "            </div>\n",
      "\n",
      "            <div class=\"row\">\n",
      "                <div class=\"col-md-1\"></div>\n",
      "                <div class=\"col-md-10\">\n",
      "                    <h2>Quotes</h2>\n",
      "                    <p><a href=\"http://quotes.toscrape.com/\">A website</a> that lists quotes from famous people. It has many endpoints showing the quotes in many different ways, each of them including new scraping challenges for you, as described below.</p>\n",
      "                    <div class=\"col-md-6\">\n",
      "                        <a href=\"http://quotes.toscrape.com\"><img src=\"./img/quotes.png\" class=\"img-thumbnail\"></a>\n",
      "                    </div>\n",
      "                    <div class=\"col-md-6\">\n",
      "                        <table class=\"table table-hover\">\n",
      "                            <tr><th colspan=\"2\">Endpoints</th></tr>\n",
      "                            <tr><td><a href=\"http://quotes.toscrape.com/\">Default</a></td><td>Microdata and pagination</td></tr>\n",
      "                            <tr><td><a href=\"http://quotes.toscrape.com/scroll\">Scroll</a> </td><td>infinite scrolling pagination</td></tr>\n",
      "                            <tr><td><a href=\"http://quotes.toscrape.com/js\">JavaScript</a> </td><td>JavaScript generated content</td></tr>\n",
      "                            <tr><td><a href=\"http://quotes.toscrape.com/js-delayed\">Delayed</a> </td><td>Same as JavaScript but with a delay (?delay=10000)</td></tr>\n",
      "                            <tr><td><a href=\"http://quotes.toscrape.com/tableful\">Tableful</a> </td><td>a table based messed-up layout</td></tr>\n",
      "                            <tr><td><a href=\"http://quotes.toscrape.com/login\">Login</a> </td><td>login with CSRF token (any user/passwd works)</td></tr>\n",
      "                            <tr><td><a href=\"http://quotes.toscrape.com/search.aspx\">ViewState</a> </td><td>an AJAX based filter form with ViewStates</td></tr>\n",
      "                            <tr><td><a href=\"http://quotes.toscrape.com/random\">Random</a> </td><td>a single random quote</td></tr>\n",
      "                        </table>\n",
      "                    </div>\n",
      "                </div>\n",
      "            </div>\n",
      "        </div>\n",
      "    </body>\n",
      "</html>\n",
      "\n"
     ]
    }
   ],
   "source": [
    "import asyncio\n",
    "from base64 import b64decode\n",
    "import os\n",
    "os.environ['ZYTE_API_KEY'] = 'd6b094f906a24a1895df5aa312e99ba1'\n",
    "\n",
    "from zyte_api.aio.client import AsyncClient\n",
    "\n",
    "async def main():\n",
    "    client = AsyncClient()\n",
    "    api_response = await client.request_raw(\n",
    "        {\n",
    "            \"url\": \"https://toscrape.com\",\n",
    "            \"httpResponseBody\": True\n",
    "        }\n",
    "    )\n",
    "    http_response_body: bytes = b64decode(api_response[\"httpResponseBody\"])\n",
    "\n",
    "    return http_response_body\n",
    "\n",
    "z = await main()\n",
    "print(z.decode('utf8'))\n"
   ]
  },
  {
   "cell_type": "code",
   "execution_count": null,
   "outputs": [],
   "source": [],
   "metadata": {
    "collapsed": false
   }
  }
 ],
 "metadata": {
  "kernelspec": {
   "display_name": "Python 3",
   "language": "python",
   "name": "python3"
  },
  "language_info": {
   "codemirror_mode": {
    "name": "ipython",
    "version": 2
   },
   "file_extension": ".py",
   "mimetype": "text/x-python",
   "name": "python",
   "nbconvert_exporter": "python",
   "pygments_lexer": "ipython2",
   "version": "2.7.6"
  }
 },
 "nbformat": 4,
 "nbformat_minor": 0
}
